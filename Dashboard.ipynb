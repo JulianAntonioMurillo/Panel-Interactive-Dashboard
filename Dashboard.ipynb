{
 "cells": [
  {
   "cell_type": "code",
   "execution_count": null,
   "id": "dce40f17",
   "metadata": {},
   "outputs": [],
   "source": [
    "# Read Me:\n",
    "### Analysis of THD Online Sales/Website metrics\n",
    "### Regular Report will be based on rolling 13 week period"
   ]
  },
  {
   "cell_type": "code",
   "execution_count": 11,
   "id": "c5eaeb15",
   "metadata": {},
   "outputs": [
    {
     "name": "stderr",
     "output_type": "stream",
     "text": [
      "WARNING:param.panel_extension: A HoloViz extension was loaded previously. This means the extension is already initialized and the following Panel extensions could not be properly loaded: ['tabulator']. If you are loading custom extensions with pn.extension(...) ensure that this is called before any other HoloViz extension such as hvPlot or HoloViews.\n"
     ]
    }
   ],
   "source": [
    "# Analysis of THD Online Sales by Online SKU\n",
    "### Load in Correct Data and just reorganize it\n",
    "import sys\n",
    "sys.path.append(r'C:\\Users\\jmurillo\\AppData\\Local\\Programs\\Python\\Python310\\Lib\\site-packages')\n",
    "\n",
    "\n",
    "import pandas as pd\n",
    "import numpy as np\n",
    "import os\n",
    "import matplotlib.pyplot as plt\n",
    "import seaborn as sn\n",
    "from bs4 import BeautifulSoup\n",
    "import dataframe_image as dfi\n",
    "from plotnine import *\n",
    "import win32com.client as win32\n",
    "# from sklearn.linear_model import LinearRegression # Linear Regression Model\n",
    "# from sklearn.preprocessing import StandardScaler #Z-score variables\n",
    "# from sklearn.metrics import mean_squared_error, mean_absolute_error, r2_score #model evaluation\n",
    "import re\n",
    "from matplotlib.pyplot import figure\n",
    "# import altair as alt\n",
    "# import datum\n",
    "import hvplot.pandas\n",
    "# from vega_datasets import data as vds\n",
    "import panel as pn\n",
    "pn.extension('tabulator')\n",
    "\n"
   ]
  },
  {
   "cell_type": "code",
   "execution_count": 12,
   "id": "b86faf2e",
   "metadata": {},
   "outputs": [],
   "source": [
    "# Reformat\n",
    "internet_metrics = pd.read_excel(r\"C:\\Users\\jmurillo\\Desktop\\Misc\\THD_Internet_Metrics_mktg\\IndividualFiles\\InternetRatingsReviews.xlsx\")\n",
    "internet_metrics.head(8)\n",
    "\n",
    "\n",
    "# Clean up VendorDrill formatting for df 1\n",
    "internet_metrics = internet_metrics.iloc[7:]\n",
    "internet_metrics.columns = internet_metrics.iloc[0]\n",
    "internet_metrics.drop(index=internet_metrics.index[0], \n",
    "                  axis=0, \n",
    "                  inplace=True)\n",
    "\n",
    "\n",
    "# Drop columns that contain NaN\n",
    "# internet_metrics = internet_metrics.iloc[:, :-3]\n",
    "\n",
    "# Drop last row (totals row from VendorDrill Report)\n",
    "internet_metrics = internet_metrics.drop(internet_metrics.index[len(internet_metrics)-1])\n",
    "\n",
    "\n",
    "# Change Dtypes/replace NA's with 0\n",
    "internet_metrics.update(internet_metrics[['Online Count of 1 Star Reviews +','Online Count of 2 Star Reviews +','Online Count of 3 Star Reviews +',\n",
    "                                          'Online Count of 4 Star Reviews +','Online Count of 5 Star Reviews +','Online PIP Visits +',\n",
    "                                          'Online PIP Conversion Rate +','Online Product Interaction Visits +','Online Gross Demand $ +',\n",
    "                                          'Online Order Units +','Online Sales $ +','Online Cancel Units +','Online Cancel $ +',\n",
    "                                          'Online Return $ +','Online Return Units +', 'is_multi_count','Week','Week_1','Year_1']].fillna(0))\n",
    "\n",
    "internet_metrics = internet_metrics.astype({'Online Count of 1 Star Reviews +':'int64','Online Count of 2 Star Reviews +':'int64','Online Count of 3 Star Reviews +':'int64',\n",
    "                                          'Online Count of 4 Star Reviews +':'int64','Online Count of 5 Star Reviews +':'int64','Online PIP Visits +':'int64',\n",
    "                                          'Online PIP Conversion Rate +':'float64','Online Product Interaction Visits +':'int64','Online Gross Demand $ +':'float64',\n",
    "                                          'Online Order Units +':'int64','Online Sales $ +':'float64','Online Cancel Units +':'int64','Online Cancel $ +':'float64',\n",
    "                                          'Online Return $ +':'float64','Online Return Units +':'int64','Online Avg Rating  +':'float64',\n",
    "                                           'Online Current List Price $ +':'float64','is_multi_count':'int64'})\n",
    "\n",
    "# Convert Date to DateTime\n",
    "internet_metrics['DateTime_Start']= pd.to_datetime(internet_metrics['DateTime_Start'])\n",
    "internet_metrics['DateTime_End']= pd.to_datetime(internet_metrics['DateTime_End'])\n",
    "#Reformat month year to month year\n",
    "internet_metrics['Month_Year']= pd.to_datetime(internet_metrics['Month_Year'])\n",
    "internet_metrics['Month_Year'] = internet_metrics['Month_Year'].dt.strftime('%m/%Y')\n",
    "internet_metrics['Month_Year']= pd.to_datetime(internet_metrics['Month_Year'])\n",
    "\n",
    "internet_metrics.columns = internet_metrics.columns.str.replace(' ','_')\n"
   ]
  },
  {
   "cell_type": "code",
   "execution_count": 13,
   "id": "dbace80e",
   "metadata": {},
   "outputs": [
    {
     "data": {
      "text/html": [
       "<div>\n",
       "<style scoped>\n",
       "    .dataframe tbody tr th:only-of-type {\n",
       "        vertical-align: middle;\n",
       "    }\n",
       "\n",
       "    .dataframe tbody tr th {\n",
       "        vertical-align: top;\n",
       "    }\n",
       "\n",
       "    .dataframe thead th {\n",
       "        text-align: right;\n",
       "    }\n",
       "</style>\n",
       "<table border=\"1\" class=\"dataframe\">\n",
       "  <thead>\n",
       "    <tr style=\"text-align: right;\">\n",
       "      <th></th>\n",
       "      <th>Online_THD_SKU+</th>\n",
       "      <th>Online_Sales_$_+</th>\n",
       "    </tr>\n",
       "  </thead>\n",
       "  <tbody>\n",
       "    <tr>\n",
       "      <th>262</th>\n",
       "      <td>431429-SG APC 128OZ</td>\n",
       "      <td>950860.70</td>\n",
       "    </tr>\n",
       "    <tr>\n",
       "      <th>268</th>\n",
       "      <td>883387-SIMPLE GREEN APC 320OZ</td>\n",
       "      <td>640068.61</td>\n",
       "    </tr>\n",
       "    <tr>\n",
       "      <th>177</th>\n",
       "      <td>1002075713-SMPL GRN OUTDR ODOR ELIMINATOR 128OZ</td>\n",
       "      <td>587963.65</td>\n",
       "    </tr>\n",
       "    <tr>\n",
       "      <th>266</th>\n",
       "      <td>853534-SG PRO HEAVY DUTY 128OZ</td>\n",
       "      <td>326285.36</td>\n",
       "    </tr>\n",
       "    <tr>\n",
       "      <th>267</th>\n",
       "      <td>854029-SG PRO3PLUS ANTIBAC&amp;DISINFECT 128OZ</td>\n",
       "      <td>289583.07</td>\n",
       "    </tr>\n",
       "    <tr>\n",
       "      <th>263</th>\n",
       "      <td>435909-SG APC CONCEN SPY 32OZ</td>\n",
       "      <td>210136.22</td>\n",
       "    </tr>\n",
       "    <tr>\n",
       "      <th>0</th>\n",
       "      <td>1000017290-SG APC 640OZ</td>\n",
       "      <td>207473.63</td>\n",
       "    </tr>\n",
       "    <tr>\n",
       "      <th>186</th>\n",
       "      <td>1002332519-5 GAL. EXTREME AIRCRAFT AND PRECISIO</td>\n",
       "      <td>178705.94</td>\n",
       "    </tr>\n",
       "    <tr>\n",
       "      <th>176</th>\n",
       "      <td>1002075704-SMPL GRN OUTDR ODOR ELIMINATOR 32OZ</td>\n",
       "      <td>167359.80</td>\n",
       "    </tr>\n",
       "    <tr>\n",
       "      <th>168</th>\n",
       "      <td>1001700777-1 GAL. CONCENTRATED ALL-PURPOSE CLEA</td>\n",
       "      <td>142998.24</td>\n",
       "    </tr>\n",
       "  </tbody>\n",
       "</table>\n",
       "</div>"
      ],
      "text/plain": [
       "                                     Online_THD_SKU+  Online_Sales_$_+\n",
       "262                              431429-SG APC 128OZ         950860.70\n",
       "268                    883387-SIMPLE GREEN APC 320OZ         640068.61\n",
       "177  1002075713-SMPL GRN OUTDR ODOR ELIMINATOR 128OZ         587963.65\n",
       "266                   853534-SG PRO HEAVY DUTY 128OZ         326285.36\n",
       "267       854029-SG PRO3PLUS ANTIBAC&DISINFECT 128OZ         289583.07\n",
       "263                    435909-SG APC CONCEN SPY 32OZ         210136.22\n",
       "0                            1000017290-SG APC 640OZ         207473.63\n",
       "186  1002332519-5 GAL. EXTREME AIRCRAFT AND PRECISIO         178705.94\n",
       "176   1002075704-SMPL GRN OUTDR ODOR ELIMINATOR 32OZ         167359.80\n",
       "168  1001700777-1 GAL. CONCENTRATED ALL-PURPOSE CLEA         142998.24"
      ]
     },
     "execution_count": 13,
     "metadata": {},
     "output_type": "execute_result"
    }
   ],
   "source": [
    "# Find top 10 selling SKU's\n",
    "group_by_sum = pd.DataFrame(internet_metrics.groupby(['Online_THD_SKU+'])['Online_Sales_$_+'].sum())\n",
    "group_by_sum = group_by_sum.reset_index()\n",
    "group_by_sum = group_by_sum.sort_values(by=['Online_Sales_$_+'], ascending=False)\n",
    "group_by_sum.head(10)"
   ]
  },
  {
   "cell_type": "code",
   "execution_count": 14,
   "id": "549f759c",
   "metadata": {},
   "outputs": [
    {
     "name": "stdout",
     "output_type": "stream",
     "text": [
      "(1522, 27) (3168, 27)\n"
     ]
    }
   ],
   "source": [
    "# Select top 10 online selling items\n",
    "top_10 = internet_metrics[(internet_metrics['Online_THD_SKU+'].str.contains(\"431429-SG APC 128OZ\")==True) | \n",
    "                       (internet_metrics['Online_THD_SKU+'].str.contains(\"883387-SIMPLE GREEN APC 320OZ\")==True)|\n",
    "                       (internet_metrics['Online_THD_SKU+'].str.contains(\"1002075713-SMPL GRN OUTDR ODOR ELIMINATOR 128OZ\")==True)|\n",
    "                       (internet_metrics['Online_THD_SKU+'].str.contains(\"853534-SG PRO HEAVY DUTY 128OZ\")==True)|\n",
    "                       (internet_metrics['Online_THD_SKU+'].str.contains(\"854029-SG PRO3PLUS ANTIBAC&DISINFECT 128OZ\")==True)|\n",
    "                       (internet_metrics['Online_THD_SKU+'].str.contains(\"435909-SG APC CONCEN SPY 32OZ\")==True)|\n",
    "                       (internet_metrics['Online_THD_SKU+'].str.contains(\"1000017290-SG APC 640OZ\")==True)|\n",
    "                       (internet_metrics['Online_THD_SKU+'].str.contains(\"1002332519-5 GAL. EXTREME AIRCRAFT AND PRECISIO\")==True)|\n",
    "                       (internet_metrics['Online_THD_SKU+'].str.contains(\"1002075704-SMPL GRN OUTDR ODOR ELIMINATOR 32OZ\")==True)|\n",
    "                       (internet_metrics['Online_THD_SKU+'].str.contains(\"1001700777-1 GAL. CONCENTRATED ALL-PURPOSE CLEA\")==True)]\n",
    "\n",
    "# Select top 5 online selling items\n",
    "top_5 = internet_metrics[(internet_metrics['Online_THD_SKU+'].str.contains(\"431429-SG APC 128OZ\")==True) | \n",
    "                       (internet_metrics['Online_THD_SKU+'].str.contains(\"883387-SIMPLE GREEN APC 320OZ\")==True)|\n",
    "                       (internet_metrics['Online_THD_SKU+'].str.contains(\"1002075713-SMPL GRN OUTDR ODOR ELIMINATOR 128OZ\")==True)|\n",
    "                       (internet_metrics['Online_THD_SKU+'].str.contains(\"853534-SG PRO HEAVY DUTY 128OZ\")==True)|\n",
    "                       (internet_metrics['Online_THD_SKU+'].str.contains(\"854029-SG PRO3PLUS ANTIBAC&DISINFECT 128OZ\")==True)]\n",
    "print(top_5.shape,top_10.shape)"
   ]
  },
  {
   "cell_type": "code",
   "execution_count": 15,
   "id": "49132f24",
   "metadata": {},
   "outputs": [],
   "source": [
    "# plot top 10 over all time\n",
    "\n",
    "#sn.set_palette(\"colorblind\")\n",
    "#ax = sn.lineplot(x = \"DateTime_End\", y = \"Online_PIP_Visits_+\", hue = \"Online_THD_SKU+\", data = top_10)\n",
    "#plt.show()"
   ]
  },
  {
   "cell_type": "code",
   "execution_count": 16,
   "id": "b8936171",
   "metadata": {},
   "outputs": [
    {
     "data": {},
     "metadata": {},
     "output_type": "display_data"
    },
    {
     "data": {
      "application/vnd.holoviews_exec.v0+json": "",
      "text/html": [
       "<div id='1568'>\n",
       "\n",
       "\n",
       "\n",
       "\n",
       "\n",
       "  <div class=\"bk-root\" id=\"ca9764f0-150b-41d1-aca5-81d44fbe6e17\" data-root-id=\"1568\"></div>\n",
       "</div>\n",
       "<script type=\"application/javascript\">(function(root) {\n",
       "  function embed_document(root) {\n",
       "    var docs_json = {\"4f1a024e-4a6d-4e57-944c-a50d8ab0fe0f\":{\"defs\":[{\"extends\":null,\"module\":null,\"name\":\"ReactiveHTML1\",\"overrides\":[],\"properties\":[]},{\"extends\":null,\"module\":null,\"name\":\"FlexBox1\",\"overrides\":[],\"properties\":[{\"default\":\"flex-start\",\"kind\":null,\"name\":\"align_content\"},{\"default\":\"flex-start\",\"kind\":null,\"name\":\"align_items\"},{\"default\":\"row\",\"kind\":null,\"name\":\"flex_direction\"},{\"default\":\"wrap\",\"kind\":null,\"name\":\"flex_wrap\"},{\"default\":\"flex-start\",\"kind\":null,\"name\":\"justify_content\"}]},{\"extends\":null,\"module\":null,\"name\":\"GridStack1\",\"overrides\":[],\"properties\":[{\"default\":\"warn\",\"kind\":null,\"name\":\"mode\"},{\"default\":null,\"kind\":null,\"name\":\"ncols\"},{\"default\":null,\"kind\":null,\"name\":\"nrows\"},{\"default\":true,\"kind\":null,\"name\":\"allow_resize\"},{\"default\":true,\"kind\":null,\"name\":\"allow_drag\"},{\"default\":[],\"kind\":null,\"name\":\"state\"}]},{\"extends\":null,\"module\":null,\"name\":\"click1\",\"overrides\":[],\"properties\":[{\"default\":\"\",\"kind\":null,\"name\":\"terminal_output\"},{\"default\":\"\",\"kind\":null,\"name\":\"debug_name\"},{\"default\":0,\"kind\":null,\"name\":\"clears\"}]},{\"extends\":null,\"module\":null,\"name\":\"TemplateActions1\",\"overrides\":[],\"properties\":[{\"default\":0,\"kind\":null,\"name\":\"open_modal\"},{\"default\":0,\"kind\":null,\"name\":\"close_modal\"}]},{\"extends\":null,\"module\":null,\"name\":\"MaterialTemplateActions1\",\"overrides\":[],\"properties\":[{\"default\":0,\"kind\":null,\"name\":\"open_modal\"},{\"default\":0,\"kind\":null,\"name\":\"close_modal\"}]}],\"roots\":{\"references\":[{\"attributes\":{\"coordinates\":null,\"data_source\":{\"id\":\"1603\"},\"glyph\":{\"id\":\"1606\"},\"group\":null,\"hover_glyph\":null,\"muted_glyph\":{\"id\":\"1608\"},\"nonselection_glyph\":{\"id\":\"1607\"},\"selection_glyph\":{\"id\":\"1611\"},\"view\":{\"id\":\"1610\"}},\"id\":\"1609\",\"type\":\"GlyphRenderer\"},{\"attributes\":{\"months\":[0,4,8]},\"id\":\"1643\",\"type\":\"MonthsTicker\"},{\"attributes\":{\"data\":{\"DateTime_End\":{\"__ndarray__\":\"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\",\"dtype\":\"float64\",\"order\":\"little\",\"shape\":[538]},\"Online_PIP_Visits_+\":[0,8,21,26,8,19,11,18,7,29,7,6,37,8,47,21,9,23,10,27,5,35,9,34,5,32,7,22,12,32,9,10,29,22,5,11,26,5,39,30,7,10,23,10,21,11,18,14,26,17,18,20,19,28,14,33,12,34,12,36,10,29,7,30,17,36,7,41,9,34,18,14,43,14,52,8,27,7,36,13,44,39,7,8,28,16,9,8,31,29,7,39,14,36,12,37,9,12,28,47,16,9,63,9,49,10,57,9,67,74,11,17,74,65,21,16,72,98,17,120,17,10,114,9,133,156,11,141,16,15,118,104,10,14,106,10,91,109,11,117,15,113,9,117,10,109,6,111,13,103,11,8,107,5,85,9,126,7,79,9,113,124,7,9,114,10,112,9,82,94,10,96,9,98,8,6,103,87,10,77,10,63,5,83,7,8,83,64,5,3,78,4,67,9,91,8,78,93,7,54,3,4,91,100,16,6,106,3,104,9,110,133,13,7,106,91,5,9,112,4,132,14,194,16,245,88,4,12,370,11,516,8,127,358,11,10,294,15,362,14,353,318,20,281,10,235,20,238,6,21,194,7,202,8,206,268,7,263,5,11,252,12,224,170,5,11,167,170,7,10,157,5,108,84,4,95,6,133,11,5,128,4,115,2,119,8,131,122,11,114,6,108,8,127,6,76,6,1,123,6,105,102,2,7,95,97,3,124,6,120,10,133,11,7,125,105,13,6,131,95,8,7,106,18,112,12,111,12,107,113,11,15,114,19,132,20,131,143,17,12,114,120,11,115,18,20,124,144,18,133,15,141,17,134,8,117,24,114,10,109,26,119,21,18,6,130,3,88,12,1,14,109,1,26,122,19,7,121,28,4,112,13,112,4,7,94,2,7,36,3,7,35,6,2,3,113,7,3,107,7,115,6,4,53,10,4,7,39,13,6,93,15,3,100,2,11,57,4,14,74,11,79,3,2,101,8,12,3,81,12,8,52,7,73,9,96,15,2,105,6,6,126,8,5,7,105,12,121,13,147,10,3,4,127,13,120,10,2,15,3,125,115,21,10,112,124,8,19,134,131,15,123,13,129,15,130,9,184,22,17,227,15,242,19,211,24,222,250,20,24,287,15,248,23,227,26,251,27,251,0,243,21,0,23,211,23,336,0,24,270,0,284,0,18,0,292,23,21,0,306,266,14,0,263,16,0,0,17,274,0,18,275,20,0,256,7,86,0],\"Online_PIP_Visits_plus\":[0,8,21,26,8,19,11,18,7,29,7,6,37,8,47,21,9,23,10,27,5,35,9,34,5,32,7,22,12,32,9,10,29,22,5,11,26,5,39,30,7,10,23,10,21,11,18,14,26,17,18,20,19,28,14,33,12,34,12,36,10,29,7,30,17,36,7,41,9,34,18,14,43,14,52,8,27,7,36,13,44,39,7,8,28,16,9,8,31,29,7,39,14,36,12,37,9,12,28,47,16,9,63,9,49,10,57,9,67,74,11,17,74,65,21,16,72,98,17,120,17,10,114,9,133,156,11,141,16,15,118,104,10,14,106,10,91,109,11,117,15,113,9,117,10,109,6,111,13,103,11,8,107,5,85,9,126,7,79,9,113,124,7,9,114,10,112,9,82,94,10,96,9,98,8,6,103,87,10,77,10,63,5,83,7,8,83,64,5,3,78,4,67,9,91,8,78,93,7,54,3,4,91,100,16,6,106,3,104,9,110,133,13,7,106,91,5,9,112,4,132,14,194,16,245,88,4,12,370,11,516,8,127,358,11,10,294,15,362,14,353,318,20,281,10,235,20,238,6,21,194,7,202,8,206,268,7,263,5,11,252,12,224,170,5,11,167,170,7,10,157,5,108,84,4,95,6,133,11,5,128,4,115,2,119,8,131,122,11,114,6,108,8,127,6,76,6,1,123,6,105,102,2,7,95,97,3,124,6,120,10,133,11,7,125,105,13,6,131,95,8,7,106,18,112,12,111,12,107,113,11,15,114,19,132,20,131,143,17,12,114,120,11,115,18,20,124,144,18,133,15,141,17,134,8,117,24,114,10,109,26,119,21,18,6,130,3,88,12,1,14,109,1,26,122,19,7,121,28,4,112,13,112,4,7,94,2,7,36,3,7,35,6,2,3,113,7,3,107,7,115,6,4,53,10,4,7,39,13,6,93,15,3,100,2,11,57,4,14,74,11,79,3,2,101,8,12,3,81,12,8,52,7,73,9,96,15,2,105,6,6,126,8,5,7,105,12,121,13,147,10,3,4,127,13,120,10,2,15,3,125,115,21,10,112,124,8,19,134,131,15,123,13,129,15,130,9,184,22,17,227,15,242,19,211,24,222,250,20,24,287,15,248,23,227,26,251,27,251,0,243,21,0,23,211,23,336,0,24,270,0,284,0,18,0,292,23,21,0,306,266,14,0,263,16,0,0,17,274,0,18,275,20,0,256,7,86,0]},\"selected\":{\"id\":\"1604\"},\"selection_policy\":{\"id\":\"1631\"}},\"id\":\"1603\",\"type\":\"ColumnDataSource\"},{\"attributes\":{\"end\":1662854400000.0,\"reset_end\":1662854400000.0,\"reset_start\":1503792000000.0,\"start\":1503792000000.0,\"tags\":[[[\"DateTime_End\",\"DateTime_End\",null]]]},\"id\":\"1570\",\"type\":\"Range1d\"},{\"attributes\":{\"source\":{\"id\":\"1603\"}},\"id\":\"1610\",\"type\":\"CDSView\"},{\"attributes\":{},\"id\":\"1590\",\"type\":\"SaveTool\"},{\"attributes\":{\"children\":[{\"id\":\"1672\"}],\"css_classes\":[\"panel-widget-box\"],\"margin\":[5,5,5,5],\"name\":\"WidgetBox02248\"},\"id\":\"1671\",\"type\":\"Column\"},{\"attributes\":{},\"id\":\"1578\",\"type\":\"LinearScale\"},{\"attributes\":{},\"id\":\"1580\",\"type\":\"LinearScale\"},{\"attributes\":{\"axis\":{\"id\":\"1582\"},\"coordinates\":null,\"grid_line_color\":null,\"group\":null,\"ticker\":null},\"id\":\"1585\",\"type\":\"Grid\"},{\"attributes\":{},\"id\":\"1587\",\"type\":\"BasicTicker\"},{\"attributes\":{},\"id\":\"1631\",\"type\":\"UnionRenderers\"},{\"attributes\":{},\"id\":\"1617\",\"type\":\"AllLabels\"},{\"attributes\":{\"below\":[{\"id\":\"1582\"}],\"center\":[{\"id\":\"1585\"},{\"id\":\"1589\"}],\"height\":300,\"left\":[{\"id\":\"1586\"}],\"margin\":[5,5,5,5],\"min_border_bottom\":10,\"min_border_left\":10,\"min_border_right\":10,\"min_border_top\":10,\"renderers\":[{\"id\":\"1609\"}],\"sizing_mode\":\"fixed\",\"title\":{\"id\":\"1574\"},\"toolbar\":{\"id\":\"1596\"},\"width\":700,\"x_range\":{\"id\":\"1570\"},\"x_scale\":{\"id\":\"1578\"},\"y_range\":{\"id\":\"1571\"},\"y_scale\":{\"id\":\"1580\"}},\"id\":\"1573\",\"subtype\":\"Figure\",\"type\":\"Plot\"},{\"attributes\":{\"tools\":[{\"id\":\"1572\"},{\"id\":\"1590\"},{\"id\":\"1591\"},{\"id\":\"1592\"},{\"id\":\"1593\"},{\"id\":\"1594\"}]},\"id\":\"1596\",\"type\":\"Toolbar\"},{\"attributes\":{},\"id\":\"1592\",\"type\":\"WheelZoomTool\"},{\"attributes\":{\"end\":567.6,\"reset_end\":567.6,\"reset_start\":-51.6,\"start\":-51.6,\"tags\":[[[\"Online_PIP_Visits_+\",\"Online_PIP_Visits_+\",null]]]},\"id\":\"1571\",\"type\":\"Range1d\"},{\"attributes\":{\"line_alpha\":0.1,\"line_color\":\"#30a2da\",\"line_width\":2,\"x\":{\"field\":\"DateTime_End\"},\"y\":{\"field\":\"Online_PIP_Visits_+\"}},\"id\":\"1607\",\"type\":\"Line\"},{\"attributes\":{\"axis\":{\"id\":\"1586\"},\"coordinates\":null,\"dimension\":1,\"grid_line_color\":null,\"group\":null,\"ticker\":null},\"id\":\"1589\",\"type\":\"Grid\"},{\"attributes\":{},\"id\":\"1614\",\"type\":\"AllLabels\"},{\"attributes\":{\"margin\":[5,5,5,5],\"name\":\"VSpacer02253\",\"sizing_mode\":\"stretch_height\"},\"id\":\"1670\",\"type\":\"Spacer\"},{\"attributes\":{},\"id\":\"1604\",\"type\":\"Selection\"},{\"attributes\":{},\"id\":\"1613\",\"type\":\"DatetimeTickFormatter\"},{\"attributes\":{\"coordinates\":null,\"group\":null,\"text\":\"Online_THD_SKU+: 1000017290-SG APC 640OZ\",\"text_color\":\"black\",\"text_font_size\":\"12pt\"},\"id\":\"1574\",\"type\":\"Title\"},{\"attributes\":{\"margin\":[5,5,5,5],\"name\":\"VSpacer02254\",\"sizing_mode\":\"stretch_height\"},\"id\":\"1673\",\"type\":\"Spacer\"},{\"attributes\":{},\"id\":\"1594\",\"type\":\"ResetTool\"},{\"attributes\":{\"base\":24,\"mantissas\":[1,2,4,6,8,12],\"max_interval\":43200000.0,\"min_interval\":3600000.0,\"num_minor_ticks\":0},\"id\":\"1636\",\"type\":\"AdaptiveTicker\"},{\"attributes\":{\"line_color\":\"#30a2da\",\"line_width\":2,\"x\":{\"field\":\"DateTime_End\"},\"y\":{\"field\":\"Online_PIP_Visits_+\"}},\"id\":\"1606\",\"type\":\"Line\"},{\"attributes\":{\"overlay\":{\"id\":\"1595\"}},\"id\":\"1593\",\"type\":\"BoxZoomTool\"},{\"attributes\":{},\"id\":\"1616\",\"type\":\"BasicTickFormatter\"},{\"attributes\":{\"line_alpha\":0.2,\"line_color\":\"#30a2da\",\"line_width\":2,\"x\":{\"field\":\"DateTime_End\"},\"y\":{\"field\":\"Online_PIP_Visits_+\"}},\"id\":\"1608\",\"type\":\"Line\"},{\"attributes\":{\"axis_label\":\"Online_PIP_Visits_+\",\"coordinates\":null,\"formatter\":{\"id\":\"1616\"},\"group\":null,\"major_label_policy\":{\"id\":\"1617\"},\"ticker\":{\"id\":\"1587\"}},\"id\":\"1586\",\"type\":\"LinearAxis\"},{\"attributes\":{\"num_minor_ticks\":5,\"tickers\":[{\"id\":\"1634\"},{\"id\":\"1635\"},{\"id\":\"1636\"},{\"id\":\"1637\"},{\"id\":\"1638\"},{\"id\":\"1639\"},{\"id\":\"1640\"},{\"id\":\"1641\"},{\"id\":\"1642\"},{\"id\":\"1643\"},{\"id\":\"1644\"},{\"id\":\"1645\"}]},\"id\":\"1583\",\"type\":\"DatetimeTicker\"},{\"attributes\":{\"mantissas\":[1,2,5],\"max_interval\":500.0,\"num_minor_ticks\":0},\"id\":\"1634\",\"type\":\"AdaptiveTicker\"},{\"attributes\":{\"margin\":[5,5,5,5],\"name\":\"HSpacer02257\",\"sizing_mode\":\"stretch_width\"},\"id\":\"1668\",\"type\":\"Spacer\"},{\"attributes\":{\"axis_label\":\"DateTime_End\",\"coordinates\":null,\"formatter\":{\"id\":\"1613\"},\"group\":null,\"major_label_policy\":{\"id\":\"1614\"},\"ticker\":{\"id\":\"1583\"}},\"id\":\"1582\",\"type\":\"DatetimeAxis\"},{\"attributes\":{\"margin\":[5,5,5,5],\"name\":\"HSpacer02256\",\"sizing_mode\":\"stretch_width\"},\"id\":\"1569\",\"type\":\"Spacer\"},{\"attributes\":{\"margin\":[20,20,20,20],\"min_width\":250,\"options\":[\"1000017290-SG APC 640OZ\",\"1001700777-1 GAL. CONCENTRATED ALL-PURPOSE CLEA\",\"1002075704-SMPL GRN OUTDR ODOR ELIMINATOR 32OZ\",\"1002075713-SMPL GRN OUTDR ODOR ELIMINATOR 128OZ\",\"1002332519-5 GAL. EXTREME AIRCRAFT AND PRECISIO\",\"431429-SG APC 128OZ\",\"435909-SG APC CONCEN SPY 32OZ\",\"853534-SG PRO HEAVY DUTY 128OZ\",\"854029-SG PRO3PLUS ANTIBAC&DISINFECT 128OZ\",\"883387-SIMPLE GREEN APC 320OZ\"],\"title\":\"Online_THD_SKU+\",\"value\":\"1000017290-SG APC 640OZ\",\"width\":250},\"id\":\"1672\",\"type\":\"panel.models.widgets.CustomSelect\"},{\"attributes\":{},\"id\":\"1645\",\"type\":\"YearsTicker\"},{\"attributes\":{\"line_color\":\"#30a2da\",\"line_width\":2,\"x\":{\"field\":\"DateTime_End\"},\"y\":{\"field\":\"Online_PIP_Visits_+\"}},\"id\":\"1611\",\"type\":\"Line\"},{\"attributes\":{\"callback\":null,\"formatters\":{\"@{DateTime_End}\":\"datetime\"},\"renderers\":[{\"id\":\"1609\"}],\"tags\":[\"hv_created\"],\"tooltips\":[[\"DateTime_End\",\"@{DateTime_End}{%F %T}\"],[\"Online_PIP_Visits_+\",\"@{Online_PIP_Visits_plus}\"]]},\"id\":\"1572\",\"type\":\"HoverTool\"},{\"attributes\":{},\"id\":\"1591\",\"type\":\"PanTool\"},{\"attributes\":{\"months\":[0,1,2,3,4,5,6,7,8,9,10,11]},\"id\":\"1641\",\"type\":\"MonthsTicker\"},{\"attributes\":{\"days\":[1,15]},\"id\":\"1640\",\"type\":\"DaysTicker\"},{\"attributes\":{\"days\":[1,2,3,4,5,6,7,8,9,10,11,12,13,14,15,16,17,18,19,20,21,22,23,24,25,26,27,28,29,30,31]},\"id\":\"1637\",\"type\":\"DaysTicker\"},{\"attributes\":{\"children\":[{\"id\":\"1670\"},{\"id\":\"1671\"},{\"id\":\"1673\"}],\"margin\":[0,0,0,0],\"name\":\"Column02255\"},\"id\":\"1669\",\"type\":\"Column\"},{\"attributes\":{\"months\":[0,6]},\"id\":\"1644\",\"type\":\"MonthsTicker\"},{\"attributes\":{\"days\":[1,4,7,10,13,16,19,22,25,28]},\"id\":\"1638\",\"type\":\"DaysTicker\"},{\"attributes\":{\"client_comm_id\":\"dd3c2212db804b5c88b842740260f531\",\"comm_id\":\"d62dff6af5fd4c699da18c05a193524a\",\"plot_id\":\"1568\"},\"id\":\"1740\",\"type\":\"panel.models.comm_manager.CommManager\"},{\"attributes\":{\"days\":[1,8,15,22]},\"id\":\"1639\",\"type\":\"DaysTicker\"},{\"attributes\":{\"months\":[0,2,4,6,8,10]},\"id\":\"1642\",\"type\":\"MonthsTicker\"},{\"attributes\":{\"bottom_units\":\"screen\",\"coordinates\":null,\"fill_alpha\":0.5,\"fill_color\":\"lightgrey\",\"group\":null,\"left_units\":\"screen\",\"level\":\"overlay\",\"line_alpha\":1.0,\"line_color\":\"black\",\"line_dash\":[4,4],\"line_width\":2,\"right_units\":\"screen\",\"syncable\":false,\"top_units\":\"screen\"},\"id\":\"1595\",\"type\":\"BoxAnnotation\"},{\"attributes\":{\"base\":60,\"mantissas\":[1,2,5,10,15,20,30],\"max_interval\":1800000.0,\"min_interval\":1000.0,\"num_minor_ticks\":0},\"id\":\"1635\",\"type\":\"AdaptiveTicker\"},{\"attributes\":{\"children\":[{\"id\":\"1569\"},{\"id\":\"1573\"},{\"id\":\"1668\"},{\"id\":\"1669\"}],\"margin\":[0,0,0,0],\"name\":\"Row02247\"},\"id\":\"1568\",\"type\":\"Row\"}],\"root_ids\":[\"1568\",\"1740\"]},\"title\":\"Bokeh Application\",\"version\":\"2.4.2\"}};\n",
       "    var render_items = [{\"docid\":\"4f1a024e-4a6d-4e57-944c-a50d8ab0fe0f\",\"root_ids\":[\"1568\"],\"roots\":{\"1568\":\"ca9764f0-150b-41d1-aca5-81d44fbe6e17\"}}];\n",
       "    root.Bokeh.embed.embed_items_notebook(docs_json, render_items);\n",
       "  }\n",
       "  if (root.Bokeh !== undefined && root.Bokeh.Panel !== undefined) {\n",
       "    embed_document(root);\n",
       "  } else {\n",
       "    var attempts = 0;\n",
       "    var timer = setInterval(function(root) {\n",
       "      if (root.Bokeh !== undefined && root.Bokeh.Panel !== undefined) {\n",
       "        clearInterval(timer);\n",
       "        embed_document(root);\n",
       "      } else if (document.readyState == \"complete\") {\n",
       "        attempts++;\n",
       "        if (attempts > 200) {\n",
       "          clearInterval(timer);\n",
       "          console.log(\"Bokeh: ERROR: Unable to run BokehJS code because BokehJS library is missing\");\n",
       "        }\n",
       "      }\n",
       "    }, 25, root)\n",
       "  }\n",
       "})(window);</script>"
      ],
      "text/plain": [
       ":DynamicMap   [Online_THD_SKU+]\n",
       "   :Curve   [DateTime_End]   (Online_PIP_Visits_+)"
      ]
     },
     "execution_count": 16,
     "metadata": {
      "application/vnd.holoviews_exec.v0+json": {
       "id": "1568"
      }
     },
     "output_type": "execute_result"
    }
   ],
   "source": [
    "# Interactive chart with drop-down menu all time by week end date\n",
    "all_time_visits = top_10.hvplot(x='DateTime_End', y='Online_PIP_Visits_+', groupby='Online_THD_SKU+', kind='line')\n",
    "all_time_visits"
   ]
  },
  {
   "cell_type": "code",
   "execution_count": 17,
   "id": "aff1bba2",
   "metadata": {},
   "outputs": [
    {
     "data": {},
     "metadata": {},
     "output_type": "display_data"
    },
    {
     "data": {
      "application/vnd.holoviews_exec.v0+json": "",
      "text/html": [
       "<div id='1851'>\n",
       "\n",
       "\n",
       "\n",
       "\n",
       "\n",
       "  <div class=\"bk-root\" id=\"a70cc289-1d07-473f-bc67-34cf25bccf70\" data-root-id=\"1851\"></div>\n",
       "</div>\n",
       "<script type=\"application/javascript\">(function(root) {\n",
       "  function embed_document(root) {\n",
       "    var docs_json = {\"bad8cf10-061f-4161-bfeb-8c68000d2a06\":{\"defs\":[{\"extends\":null,\"module\":null,\"name\":\"ReactiveHTML1\",\"overrides\":[],\"properties\":[]},{\"extends\":null,\"module\":null,\"name\":\"FlexBox1\",\"overrides\":[],\"properties\":[{\"default\":\"flex-start\",\"kind\":null,\"name\":\"align_content\"},{\"default\":\"flex-start\",\"kind\":null,\"name\":\"align_items\"},{\"default\":\"row\",\"kind\":null,\"name\":\"flex_direction\"},{\"default\":\"wrap\",\"kind\":null,\"name\":\"flex_wrap\"},{\"default\":\"flex-start\",\"kind\":null,\"name\":\"justify_content\"}]},{\"extends\":null,\"module\":null,\"name\":\"GridStack1\",\"overrides\":[],\"properties\":[{\"default\":\"warn\",\"kind\":null,\"name\":\"mode\"},{\"default\":null,\"kind\":null,\"name\":\"ncols\"},{\"default\":null,\"kind\":null,\"name\":\"nrows\"},{\"default\":true,\"kind\":null,\"name\":\"allow_resize\"},{\"default\":true,\"kind\":null,\"name\":\"allow_drag\"},{\"default\":[],\"kind\":null,\"name\":\"state\"}]},{\"extends\":null,\"module\":null,\"name\":\"click1\",\"overrides\":[],\"properties\":[{\"default\":\"\",\"kind\":null,\"name\":\"terminal_output\"},{\"default\":\"\",\"kind\":null,\"name\":\"debug_name\"},{\"default\":0,\"kind\":null,\"name\":\"clears\"}]},{\"extends\":null,\"module\":null,\"name\":\"TemplateActions1\",\"overrides\":[],\"properties\":[{\"default\":0,\"kind\":null,\"name\":\"open_modal\"},{\"default\":0,\"kind\":null,\"name\":\"close_modal\"}]},{\"extends\":null,\"module\":null,\"name\":\"MaterialTemplateActions1\",\"overrides\":[],\"properties\":[{\"default\":0,\"kind\":null,\"name\":\"open_modal\"},{\"default\":0,\"kind\":null,\"name\":\"close_modal\"}]}],\"roots\":{\"references\":[{\"attributes\":{},\"id\":\"1887\",\"type\":\"Selection\"},{\"attributes\":{\"days\":[1,15]},\"id\":\"1923\",\"type\":\"DaysTicker\"},{\"attributes\":{\"days\":[1,2,3,4,5,6,7,8,9,10,11,12,13,14,15,16,17,18,19,20,21,22,23,24,25,26,27,28,29,30,31]},\"id\":\"1920\",\"type\":\"DaysTicker\"},{\"attributes\":{\"children\":[{\"id\":\"1852\"},{\"id\":\"1856\"},{\"id\":\"1951\"},{\"id\":\"1952\"}],\"margin\":[0,0,0,0],\"name\":\"Row02503\"},\"id\":\"1851\",\"type\":\"Row\"},{\"attributes\":{},\"id\":\"1861\",\"type\":\"LinearScale\"},{\"attributes\":{\"end\":1661990400000.0,\"reset_end\":1661990400000.0,\"reset_start\":1451606400000.0,\"start\":1451606400000.0,\"tags\":[[[\"Month_Year\",\"Month_Year\",null]]]},\"id\":\"1853\",\"type\":\"Range1d\"},{\"attributes\":{},\"id\":\"1896\",\"type\":\"DatetimeTickFormatter\"},{\"attributes\":{\"client_comm_id\":\"d8e6ddd6061843aa897a2e2da8c81ba5\",\"comm_id\":\"1cdf56918fc045e5944abb3969c65188\",\"plot_id\":\"1851\"},\"id\":\"2023\",\"type\":\"panel.models.comm_manager.CommManager\"},{\"attributes\":{\"margin\":[5,5,5,5],\"name\":\"HSpacer02512\",\"sizing_mode\":\"stretch_width\"},\"id\":\"1852\",\"type\":\"Spacer\"},{\"attributes\":{\"tools\":[{\"id\":\"1855\"},{\"id\":\"1873\"},{\"id\":\"1874\"},{\"id\":\"1875\"},{\"id\":\"1876\"},{\"id\":\"1877\"}]},\"id\":\"1879\",\"type\":\"Toolbar\"},{\"attributes\":{\"margin\":[5,5,5,5],\"name\":\"VSpacer02509\",\"sizing_mode\":\"stretch_height\"},\"id\":\"1953\",\"type\":\"Spacer\"},{\"attributes\":{\"days\":[1,4,7,10,13,16,19,22,25,28]},\"id\":\"1921\",\"type\":\"DaysTicker\"},{\"attributes\":{\"mantissas\":[1,2,5],\"max_interval\":500.0,\"num_minor_ticks\":0},\"id\":\"1917\",\"type\":\"AdaptiveTicker\"},{\"attributes\":{\"months\":[0,4,8]},\"id\":\"1926\",\"type\":\"MonthsTicker\"},{\"attributes\":{\"source\":{\"id\":\"1886\"}},\"id\":\"1893\",\"type\":\"CDSView\"},{\"attributes\":{\"children\":[{\"id\":\"1955\"}],\"css_classes\":[\"panel-widget-box\"],\"margin\":[5,5,5,5],\"name\":\"WidgetBox02504\"},\"id\":\"1954\",\"type\":\"Column\"},{\"attributes\":{\"line_color\":\"#30a2da\",\"line_width\":2,\"x\":{\"field\":\"Month_Year\"},\"y\":{\"field\":\"Online_PIP_Visits_+_monthly_avg\"}},\"id\":\"1894\",\"type\":\"Line\"},{\"attributes\":{\"margin\":[20,20,20,20],\"min_width\":250,\"options\":[\"1001700777-1 GAL. CONCENTRATED ALL-PURPOSE CLEA\",\"1002075713-SMPL GRN OUTDR ODOR ELIMINATOR 128OZ\",\"1002075704-SMPL GRN OUTDR ODOR ELIMINATOR 32OZ\",\"435909-SG APC CONCEN SPY 32OZ\",\"1002332519-5 GAL. EXTREME AIRCRAFT AND PRECISIO\",\"431429-SG APC 128OZ\",\"853534-SG PRO HEAVY DUTY 128OZ\",\"854029-SG PRO3PLUS ANTIBAC&DISINFECT 128OZ\",\"1000017290-SG APC 640OZ\",\"883387-SIMPLE GREEN APC 320OZ\"],\"title\":\"Online_THD_SKU+\",\"value\":\"1001700777-1 GAL. CONCENTRATED ALL-PURPOSE CLEA\",\"width\":250},\"id\":\"1955\",\"type\":\"panel.models.widgets.CustomSelect\"},{\"attributes\":{\"margin\":[5,5,5,5],\"name\":\"VSpacer02510\",\"sizing_mode\":\"stretch_height\"},\"id\":\"1956\",\"type\":\"Spacer\"},{\"attributes\":{},\"id\":\"1900\",\"type\":\"AllLabels\"},{\"attributes\":{},\"id\":\"1899\",\"type\":\"BasicTickFormatter\"},{\"attributes\":{},\"id\":\"1863\",\"type\":\"LinearScale\"},{\"attributes\":{\"data\":{\"Month_Year\":{\"__ndarray__\":\"AADAvacfdUIAAAAQoil1QgAAwJb3MnVCAAAA6fE8dUIAAIDVmUZ1QgAAwCeUUHVCAABAFDxadUIAAIBmNmR1QgAAwLgwbnVCAABApdh3dUIAAID30oF1QgAAAOR6i3VCAABANnWVdUIAAICIb591QgAAgKlyqHVCAADA+2yydUIAAEDoFLx1QgAAgDoPxnVCAAAAJ7fPdUIAAEB5sdl1QgAAgMur43VCAAAAuFPtdUIAAEAKTvd1QgAAwPb1AHZCAAAASfAKdkIAAECb6hR2QgAAQLztHXZCAACADugndkIAAAD7jzF2QgAAQE2KO3ZCAADAOTJFdkIAAACMLE92QgAAQN4mWXZCAADAys5idkIAAAAdyWx2QgAAgAlxdnZCAADAW2uAdkIAAACuZYp2QgAAAM9ok3ZCAABAIWOddkIAAMANC6d2QgAAAGAFsXZCAACATK26dkIAAMCep8R2QgAAAPGhznZCAACA3UnYdkIAAMAvROJ2QgAAQBzs63ZCAACAbub1dkIAAMDA4P92QgAAgEc2CXdCAADAmTATd0IAAECG2Bx3QgAAgNjSJndCAAAAxXowd0IAAEAXdTp3QgAAgGlvRHdCAAAAVhdOd0IAAECoEVh3QgAAwJS5YXdCAAAA57Nrd0IAAEA5rnV3QgAAQFqxfndCAACArKuId0IAAACZU5J3QgAAQOtNnHdCAADA1/Wld0IAAAAq8K93QgAAQHzquXdCAADAaJLDd0IAAAC7jM13QgAAgKc013dCAADA+S7hd0IAAABMKet3QgAAAG0s9HdCAABAvyb+d0IAAMCrzgd4QgAAAP7IEXhCAACA6nAbeEIAAMA8ayV4QgAAAI9lL3hC\",\"dtype\":\"float64\",\"order\":\"little\",\"shape\":[81]},\"Online_PIP_Visits_+_monthly_avg\":{\"__ndarray__\":\"AAAAAAAAAAAAAAAAAAAAAAAAAAAAAAAAAAAAAAAAAAAAAAAAAAAAAAAAAAAAAAAAAAAAAAAAAAAAAAAAAAAAAAAAAAAAAAAAAAAAAAAAAAAAAAAAAAAAAAAAAAAAAAAAAAAAAAAAAAAAAAAAAAAAAAAAAAAAAAAAAAAAAAAAAAAAAAAAAAAAAAAAAAAAAAAAAAAAAAAAAAAAAAAAAAAAAAAAAAAAAAAAAAAAAAAAAAAAAAAAAAAAAAAAAAAAAAAAmpmZmZmZSUAAAAAAAEA6QAAAAAAAYENAzczMzMxMSEAAAAAAAABFQAAAAAAAwENAZmZmZmbmREAAAAAAAEA/QAAAAAAAADNAzczMzMzMOEAAAAAAAAA9QAAAAAAAQD5AAAAAAAAAAAAAAAAAAAAAAAAAAAAAwEVAmpmZmZkZV0AAAAAAALBRQAAAAAAAEFRAmpmZmZkZTEAAAAAAANBTQDMzMzMz81RAAAAAAADgR0AAAAAAAABDQAAAAAAAQElAzczMzMxMVEAAAAAAADhtQDMzMzMzM3dAAAAAAAD4bUAAAAAAAHhjQM3MzMzMzGFAAAAAAABwYUDNzMzMzIxUQAAAAAAAwEpAAAAAAADAT0DNzMzMzExHQFVVVVVV1U1AmpmZmZkZSkAAAAAAAMBEQAAAAAAAgERAAAAAAADgQEAAAAAAAIBDQAAAAAAAgEVAAAAAAABgRkAzMzMzMzNDQAAAAAAAIEZAAAAAAACAQUAzMzMzM7NBQAAAAAAAAERAVVVVVVUVSEAAAAAAAEBJQAAAAAAAoEtAAAAAAAAgTEBmZmZmZmZBQAAAAAAAgEBAAAAAAABATkDNzMzMzIxXQAAAAAAAgEJA\",\"dtype\":\"float64\",\"order\":\"little\",\"shape\":[81]},\"Online_PIP_Visits_plus_monthly_avg\":{\"__ndarray__\":\"AAAAAAAAAAAAAAAAAAAAAAAAAAAAAAAAAAAAAAAAAAAAAAAAAAAAAAAAAAAAAAAAAAAAAAAAAAAAAAAAAAAAAAAAAAAAAAAAAAAAAAAAAAAAAAAAAAAAAAAAAAAAAAAAAAAAAAAAAAAAAAAAAAAAAAAAAAAAAAAAAAAAAAAAAAAAAAAAAAAAAAAAAAAAAAAAAAAAAAAAAAAAAAAAAAAAAAAAAAAAAAAAAAAAAAAAAAAAAAAAAAAAAAAAAAAAAAAAmpmZmZmZSUAAAAAAAEA6QAAAAAAAYENAzczMzMxMSEAAAAAAAABFQAAAAAAAwENAZmZmZmbmREAAAAAAAEA/QAAAAAAAADNAzczMzMzMOEAAAAAAAAA9QAAAAAAAQD5AAAAAAAAAAAAAAAAAAAAAAAAAAAAAwEVAmpmZmZkZV0AAAAAAALBRQAAAAAAAEFRAmpmZmZkZTEAAAAAAANBTQDMzMzMz81RAAAAAAADgR0AAAAAAAABDQAAAAAAAQElAzczMzMxMVEAAAAAAADhtQDMzMzMzM3dAAAAAAAD4bUAAAAAAAHhjQM3MzMzMzGFAAAAAAABwYUDNzMzMzIxUQAAAAAAAwEpAAAAAAADAT0DNzMzMzExHQFVVVVVV1U1AmpmZmZkZSkAAAAAAAMBEQAAAAAAAgERAAAAAAADgQEAAAAAAAIBDQAAAAAAAgEVAAAAAAABgRkAzMzMzMzNDQAAAAAAAIEZAAAAAAACAQUAzMzMzM7NBQAAAAAAAAERAVVVVVVUVSEAAAAAAAEBJQAAAAAAAoEtAAAAAAAAgTEBmZmZmZmZBQAAAAAAAgEBAAAAAAABATkDNzMzMzIxXQAAAAAAAgEJA\",\"dtype\":\"float64\",\"order\":\"little\",\"shape\":[81]}},\"selected\":{\"id\":\"1887\"},\"selection_policy\":{\"id\":\"1914\"}},\"id\":\"1886\",\"type\":\"ColumnDataSource\"},{\"attributes\":{\"end\":408.32,\"reset_end\":408.32,\"reset_start\":-37.12,\"start\":-37.12,\"tags\":[[[\"Online_PIP_Visits_+_monthly_avg\",\"Online_PIP_Visits_+_monthly_avg\",null]]]},\"id\":\"1854\",\"type\":\"Range1d\"},{\"attributes\":{\"line_alpha\":0.1,\"line_color\":\"#30a2da\",\"line_width\":2,\"x\":{\"field\":\"Month_Year\"},\"y\":{\"field\":\"Online_PIP_Visits_+_monthly_avg\"}},\"id\":\"1890\",\"type\":\"Line\"},{\"attributes\":{\"line_color\":\"#30a2da\",\"line_width\":2,\"x\":{\"field\":\"Month_Year\"},\"y\":{\"field\":\"Online_PIP_Visits_+_monthly_avg\"}},\"id\":\"1889\",\"type\":\"Line\"},{\"attributes\":{\"axis_label\":\"Month_Year\",\"coordinates\":null,\"formatter\":{\"id\":\"1896\"},\"group\":null,\"major_label_policy\":{\"id\":\"1897\"},\"ticker\":{\"id\":\"1866\"}},\"id\":\"1865\",\"type\":\"DatetimeAxis\"},{\"attributes\":{},\"id\":\"1875\",\"type\":\"WheelZoomTool\"},{\"attributes\":{},\"id\":\"1874\",\"type\":\"PanTool\"},{\"attributes\":{\"line_alpha\":0.2,\"line_color\":\"#30a2da\",\"line_width\":2,\"x\":{\"field\":\"Month_Year\"},\"y\":{\"field\":\"Online_PIP_Visits_+_monthly_avg\"}},\"id\":\"1891\",\"type\":\"Line\"},{\"attributes\":{\"axis\":{\"id\":\"1869\"},\"coordinates\":null,\"dimension\":1,\"grid_line_color\":null,\"group\":null,\"ticker\":null},\"id\":\"1872\",\"type\":\"Grid\"},{\"attributes\":{},\"id\":\"1877\",\"type\":\"ResetTool\"},{\"attributes\":{\"children\":[{\"id\":\"1953\"},{\"id\":\"1954\"},{\"id\":\"1956\"}],\"margin\":[0,0,0,0],\"name\":\"Column02511\"},\"id\":\"1952\",\"type\":\"Column\"},{\"attributes\":{\"base\":24,\"mantissas\":[1,2,4,6,8,12],\"max_interval\":43200000.0,\"min_interval\":3600000.0,\"num_minor_ticks\":0},\"id\":\"1919\",\"type\":\"AdaptiveTicker\"},{\"attributes\":{},\"id\":\"1873\",\"type\":\"SaveTool\"},{\"attributes\":{},\"id\":\"1870\",\"type\":\"BasicTicker\"},{\"attributes\":{\"overlay\":{\"id\":\"1878\"}},\"id\":\"1876\",\"type\":\"BoxZoomTool\"},{\"attributes\":{\"bottom_units\":\"screen\",\"coordinates\":null,\"fill_alpha\":0.5,\"fill_color\":\"lightgrey\",\"group\":null,\"left_units\":\"screen\",\"level\":\"overlay\",\"line_alpha\":1.0,\"line_color\":\"black\",\"line_dash\":[4,4],\"line_width\":2,\"right_units\":\"screen\",\"syncable\":false,\"top_units\":\"screen\"},\"id\":\"1878\",\"type\":\"BoxAnnotation\"},{\"attributes\":{\"months\":[0,6]},\"id\":\"1927\",\"type\":\"MonthsTicker\"},{\"attributes\":{\"coordinates\":null,\"data_source\":{\"id\":\"1886\"},\"glyph\":{\"id\":\"1889\"},\"group\":null,\"hover_glyph\":null,\"muted_glyph\":{\"id\":\"1891\"},\"nonselection_glyph\":{\"id\":\"1890\"},\"selection_glyph\":{\"id\":\"1894\"},\"view\":{\"id\":\"1893\"}},\"id\":\"1892\",\"type\":\"GlyphRenderer\"},{\"attributes\":{\"num_minor_ticks\":5,\"tickers\":[{\"id\":\"1917\"},{\"id\":\"1918\"},{\"id\":\"1919\"},{\"id\":\"1920\"},{\"id\":\"1921\"},{\"id\":\"1922\"},{\"id\":\"1923\"},{\"id\":\"1924\"},{\"id\":\"1925\"},{\"id\":\"1926\"},{\"id\":\"1927\"},{\"id\":\"1928\"}]},\"id\":\"1866\",\"type\":\"DatetimeTicker\"},{\"attributes\":{\"months\":[0,2,4,6,8,10]},\"id\":\"1925\",\"type\":\"MonthsTicker\"},{\"attributes\":{\"axis_label\":\"Online_PIP_Visits_+_monthly_avg\",\"coordinates\":null,\"formatter\":{\"id\":\"1899\"},\"group\":null,\"major_label_policy\":{\"id\":\"1900\"},\"ticker\":{\"id\":\"1870\"}},\"id\":\"1869\",\"type\":\"LinearAxis\"},{\"attributes\":{\"base\":60,\"mantissas\":[1,2,5,10,15,20,30],\"max_interval\":1800000.0,\"min_interval\":1000.0,\"num_minor_ticks\":0},\"id\":\"1918\",\"type\":\"AdaptiveTicker\"},{\"attributes\":{\"axis\":{\"id\":\"1865\"},\"coordinates\":null,\"grid_line_color\":null,\"group\":null,\"ticker\":null},\"id\":\"1868\",\"type\":\"Grid\"},{\"attributes\":{\"days\":[1,8,15,22]},\"id\":\"1922\",\"type\":\"DaysTicker\"},{\"attributes\":{},\"id\":\"1897\",\"type\":\"AllLabels\"},{\"attributes\":{\"months\":[0,1,2,3,4,5,6,7,8,9,10,11]},\"id\":\"1924\",\"type\":\"MonthsTicker\"},{\"attributes\":{\"margin\":[5,5,5,5],\"name\":\"HSpacer02513\",\"sizing_mode\":\"stretch_width\"},\"id\":\"1951\",\"type\":\"Spacer\"},{\"attributes\":{\"coordinates\":null,\"group\":null,\"text\":\"Online_THD_SKU+: 1001700777-1 GAL. CONCENTRATED ALL-PURPOSE CLEA\",\"text_color\":\"black\",\"text_font_size\":\"12pt\"},\"id\":\"1857\",\"type\":\"Title\"},{\"attributes\":{},\"id\":\"1928\",\"type\":\"YearsTicker\"},{\"attributes\":{},\"id\":\"1914\",\"type\":\"UnionRenderers\"},{\"attributes\":{\"below\":[{\"id\":\"1865\"}],\"center\":[{\"id\":\"1868\"},{\"id\":\"1872\"}],\"height\":300,\"left\":[{\"id\":\"1869\"}],\"margin\":[5,5,5,5],\"min_border_bottom\":10,\"min_border_left\":10,\"min_border_right\":10,\"min_border_top\":10,\"renderers\":[{\"id\":\"1892\"}],\"sizing_mode\":\"fixed\",\"title\":{\"id\":\"1857\"},\"toolbar\":{\"id\":\"1879\"},\"width\":700,\"x_range\":{\"id\":\"1853\"},\"x_scale\":{\"id\":\"1861\"},\"y_range\":{\"id\":\"1854\"},\"y_scale\":{\"id\":\"1863\"}},\"id\":\"1856\",\"subtype\":\"Figure\",\"type\":\"Plot\"},{\"attributes\":{\"callback\":null,\"formatters\":{\"@{Month_Year}\":\"datetime\"},\"renderers\":[{\"id\":\"1892\"}],\"tags\":[\"hv_created\"],\"tooltips\":[[\"Month_Year\",\"@{Month_Year}{%F %T}\"],[\"Online_PIP_Visits_+_monthly_avg\",\"@{Online_PIP_Visits_plus_monthly_avg}\"]]},\"id\":\"1855\",\"type\":\"HoverTool\"}],\"root_ids\":[\"1851\",\"2023\"]},\"title\":\"Bokeh Application\",\"version\":\"2.4.2\"}};\n",
       "    var render_items = [{\"docid\":\"bad8cf10-061f-4161-bfeb-8c68000d2a06\",\"root_ids\":[\"1851\"],\"roots\":{\"1851\":\"a70cc289-1d07-473f-bc67-34cf25bccf70\"}}];\n",
       "    root.Bokeh.embed.embed_items_notebook(docs_json, render_items);\n",
       "  }\n",
       "  if (root.Bokeh !== undefined && root.Bokeh.Panel !== undefined) {\n",
       "    embed_document(root);\n",
       "  } else {\n",
       "    var attempts = 0;\n",
       "    var timer = setInterval(function(root) {\n",
       "      if (root.Bokeh !== undefined && root.Bokeh.Panel !== undefined) {\n",
       "        clearInterval(timer);\n",
       "        embed_document(root);\n",
       "      } else if (document.readyState == \"complete\") {\n",
       "        attempts++;\n",
       "        if (attempts > 200) {\n",
       "          clearInterval(timer);\n",
       "          console.log(\"Bokeh: ERROR: Unable to run BokehJS code because BokehJS library is missing\");\n",
       "        }\n",
       "      }\n",
       "    }, 25, root)\n",
       "  }\n",
       "})(window);</script>"
      ],
      "text/plain": [
       ":DynamicMap   [Online_THD_SKU+]\n",
       "   :Curve   [Month_Year]   (Online_PIP_Visits_+_monthly_avg)"
      ]
     },
     "execution_count": 17,
     "metadata": {
      "application/vnd.holoviews_exec.v0+json": {
       "id": "1851"
      }
     },
     "output_type": "execute_result"
    }
   ],
   "source": [
    "# Interactive chart with drop-down menu all time by average grouped by month\n",
    "# Still top 10 selling items\n",
    "month_avg = pd.DataFrame(top_10.groupby(['Month_Year','Online_THD_SKU+'])['Online_PIP_Visits_+'].mean())\n",
    "\n",
    "\n",
    "month_avg = month_avg.reset_index()\n",
    "month_avg.rename(columns={\"Online_PIP_Visits_+\": \"Online_PIP_Visits_+_monthly_avg\"}, inplace = True)\n",
    "\n",
    "month_avg.tail()\n",
    "month_avg = month_avg.sort_values(by=['Month_Year'], ascending=True)\n",
    "\n",
    "month_avg_visits = month_avg.hvplot(x='Month_Year', y='Online_PIP_Visits_+_monthly_avg', groupby='Online_THD_SKU+', kind='line')\n",
    "month_avg_visits\n",
    "# This plot gives me a better idea month to month what the goal would be for PIP visits for the top 10 SKU's\n",
    "# you can also see the seasonality... the last half of the graph shows the later months for all years 2017-2022. They're significantly lower than the middle or first part of the graph\n",
    "# If you visualize the graph as a loop... you can see that sales go down for outdoor eliminator during the fall/winter months... then pick back up in January into spring/summer."
   ]
  },
  {
   "cell_type": "code",
   "execution_count": 18,
   "id": "6d827db2",
   "metadata": {},
   "outputs": [],
   "source": [
    "# Group by month and sum sales and canceled orders\n",
    "#month_sum = pd.DataFrame(top_10.groupby(['Year_1'])[['Online_Sales_$_+','Online_Cancel_$_+']].sum())\n",
    "#month_sum = month_sum.reset_index()\n",
    "# Plot that shit\n",
    "# multiple line plots\n",
    "\n",
    "#plt.plot( 'Year_1', 'Online_Sales_$_+', data=month_sum, marker='', color='skyblue', linewidth=2, label = \"Online Sales\")\n",
    "#plt.plot( 'Year_1', 'Online_Cancel_$_+', data=month_sum, marker='', color='red', linewidth=2, linestyle='dashed', label=\"Online Cancellations\")\n",
    "\n",
    "# show legend\n",
    "#plt.legend()\n",
    "\n",
    "# show graph\n",
    "#plt.show()"
   ]
  },
  {
   "cell_type": "markdown",
   "id": "4028b6af",
   "metadata": {},
   "source": [
    "### ------------------------------------------- Save Interactive Charts and Create Dashboard -------------------------------------------"
   ]
  },
  {
   "cell_type": "code",
   "execution_count": 19,
   "id": "7396fd40",
   "metadata": {},
   "outputs": [],
   "source": [
    "# Save interactive chart as HTML for functionality\n",
    "#### from bokeh.resources import INLINE\n",
    "#### hvplot.save(zoink_plot, 'OnlinePIP_Visits_Top10_SKUs_THD.html', resources=INLINE)\n",
    "os.chdir(r\"C:\\Users\\jmurillo\\Desktop\\Misc\\THD_Internet_Metrics_mktg\\IndividualFiles\")\n",
    "#Layout using Template\n",
    "template = pn.template.FastListTemplate(\n",
    "    title='Internet Metrics - The Home Depot', \n",
    "    sidebar=[pn.pane.Markdown(\"# The Home Depot Online Sales\"), \n",
    "             pn.pane.Markdown(\"#### This Dashboard displays summary statistics from Home Depot's Online Sales Performance. The following is data pulled directly from HomeDepot/Vendor Drill, something we were previously lacking insight on. We have great data on how we sell our products to them, but now how our products perform in their stores/on HomeDepot.com\"), \n",
    "             pn.pane.PNG('Logo_SimpleGreen_White_Outline-Green.png', sizing_mode='scale_both'),\n",
    "             pn.pane.PNG('TheHomeDepot.png', sizing_mode='scale_both')],\n",
    "    main=[pn.Row(pn.Column(month_avg_visits, all_time_visits))],\n",
    "    accent_base_color=\"#88d8b0\",\n",
    "    header_background=\"#88d8b0\",\n",
    ")\n",
    "# template.show()\n",
    "template.servable();"
   ]
  },
  {
   "cell_type": "code",
   "execution_count": null,
   "id": "591a5ddc",
   "metadata": {},
   "outputs": [],
   "source": []
  },
  {
   "cell_type": "code",
   "execution_count": null,
   "id": "3d992229",
   "metadata": {},
   "outputs": [],
   "source": []
  },
  {
   "cell_type": "markdown",
   "id": "4671eec7",
   "metadata": {},
   "source": [
    "### ------------------------------------------- Dashboard building -------------------------------------------"
   ]
  },
  {
   "cell_type": "code",
   "execution_count": 153,
   "id": "84062994",
   "metadata": {},
   "outputs": [
    {
     "data": {},
     "metadata": {},
     "output_type": "display_data"
    },
    {
     "data": {
      "application/vnd.holoviews_exec.v0+json": "",
      "text/html": [
       "<div id='12685'>\n",
       "\n",
       "\n",
       "\n",
       "\n",
       "\n",
       "  <div class=\"bk-root\" id=\"a58a47ef-1d05-41bf-984f-3017d9964238\" data-root-id=\"12685\"></div>\n",
       "</div>\n",
       "<script type=\"application/javascript\">(function(root) {\n",
       "  function embed_document(root) {\n",
       "    var docs_json = {\"a1c46fbe-6fdb-4502-801c-44f0bcd54d2f\":{\"defs\":[{\"extends\":null,\"module\":null,\"name\":\"ReactiveHTML1\",\"overrides\":[],\"properties\":[]},{\"extends\":null,\"module\":null,\"name\":\"FlexBox1\",\"overrides\":[],\"properties\":[{\"default\":\"flex-start\",\"kind\":null,\"name\":\"align_content\"},{\"default\":\"flex-start\",\"kind\":null,\"name\":\"align_items\"},{\"default\":\"row\",\"kind\":null,\"name\":\"flex_direction\"},{\"default\":\"wrap\",\"kind\":null,\"name\":\"flex_wrap\"},{\"default\":\"flex-start\",\"kind\":null,\"name\":\"justify_content\"}]},{\"extends\":null,\"module\":null,\"name\":\"GridStack1\",\"overrides\":[],\"properties\":[{\"default\":\"warn\",\"kind\":null,\"name\":\"mode\"},{\"default\":null,\"kind\":null,\"name\":\"ncols\"},{\"default\":null,\"kind\":null,\"name\":\"nrows\"},{\"default\":true,\"kind\":null,\"name\":\"allow_resize\"},{\"default\":true,\"kind\":null,\"name\":\"allow_drag\"},{\"default\":[],\"kind\":null,\"name\":\"state\"}]},{\"extends\":null,\"module\":null,\"name\":\"click1\",\"overrides\":[],\"properties\":[{\"default\":\"\",\"kind\":null,\"name\":\"terminal_output\"},{\"default\":\"\",\"kind\":null,\"name\":\"debug_name\"},{\"default\":0,\"kind\":null,\"name\":\"clears\"}]},{\"extends\":null,\"module\":null,\"name\":\"TemplateActions1\",\"overrides\":[],\"properties\":[{\"default\":0,\"kind\":null,\"name\":\"open_modal\"},{\"default\":0,\"kind\":null,\"name\":\"close_modal\"}]},{\"extends\":null,\"module\":null,\"name\":\"MaterialTemplateActions1\",\"overrides\":[],\"properties\":[{\"default\":0,\"kind\":null,\"name\":\"open_modal\"},{\"default\":0,\"kind\":null,\"name\":\"close_modal\"}]}],\"roots\":{\"references\":[{\"attributes\":{\"end\":2023,\"margin\":[5,10,5,10],\"start\":2016,\"title\":\"Year Slider\",\"value\":2016},\"id\":\"12685\",\"type\":\"Slider\"},{\"attributes\":{\"client_comm_id\":\"c45b6cec23604557b44d52d155a222f3\",\"comm_id\":\"aa7f8d09c00c45138d5da09f636bc8f6\",\"plot_id\":\"12685\"},\"id\":\"12686\",\"type\":\"panel.models.comm_manager.CommManager\"}],\"root_ids\":[\"12685\",\"12686\"]},\"title\":\"Bokeh Application\",\"version\":\"2.4.2\"}};\n",
       "    var render_items = [{\"docid\":\"a1c46fbe-6fdb-4502-801c-44f0bcd54d2f\",\"root_ids\":[\"12685\"],\"roots\":{\"12685\":\"a58a47ef-1d05-41bf-984f-3017d9964238\"}}];\n",
       "    root.Bokeh.embed.embed_items_notebook(docs_json, render_items);\n",
       "  }\n",
       "  if (root.Bokeh !== undefined && root.Bokeh.Panel !== undefined) {\n",
       "    embed_document(root);\n",
       "  } else {\n",
       "    var attempts = 0;\n",
       "    var timer = setInterval(function(root) {\n",
       "      if (root.Bokeh !== undefined && root.Bokeh.Panel !== undefined) {\n",
       "        clearInterval(timer);\n",
       "        embed_document(root);\n",
       "      } else if (document.readyState == \"complete\") {\n",
       "        attempts++;\n",
       "        if (attempts > 200) {\n",
       "          clearInterval(timer);\n",
       "          console.log(\"Bokeh: ERROR: Unable to run BokehJS code because BokehJS library is missing\");\n",
       "        }\n",
       "      }\n",
       "    }, 25, root)\n",
       "  }\n",
       "})(window);</script>"
      ],
      "text/plain": [
       "IntSlider(end=2023, name='Year Slider', start=2016, value=2016)"
      ]
     },
     "execution_count": 153,
     "metadata": {
      "application/vnd.holoviews_exec.v0+json": {
       "id": "12685"
      }
     },
     "output_type": "execute_result"
    }
   ],
   "source": [
    "# Create some widgets (year slider)\n",
    "# year_slider = pn.widgets.IntSlider(name = 'Year Slider', start = 2016, end = 2023, step = 1, value = 2016)\n",
    "# year_slider"
   ]
  },
  {
   "cell_type": "code",
   "execution_count": 9,
   "id": "a70bdbea",
   "metadata": {},
   "outputs": [],
   "source": [
    "\n",
    "#top_10.columns = top_10.columns.str.replace('+','')\n",
    "#top_10['Online_THD_SKU'].unique()\n",
    "#skus = ['1000017290-SG APC 640OZ',\n",
    "#       '1001700777-1 GAL. CONCENTRATED ALL-PURPOSE CLEA',\n",
    "#       '1002075704-SMPL GRN OUTDR ODOR ELIMINATOR 32OZ',\n",
    "#       '1002075713-SMPL GRN OUTDR ODOR ELIMINATOR 128OZ',\n",
    "#       '1002332519-5 GAL. EXTREME AIRCRAFT AND PRECISIO',\n",
    "#       '431429-SG APC 128OZ', '435909-SG APC CONCEN SPY 32OZ',\n",
    "#       '853534-SG PRO HEAVY DUTY 128OZ',\n",
    "#       '854029-SG PRO3PLUS ANTIBAC&DISINFECT 128OZ',\n",
    "#       '883387-SIMPLE GREEN APC 320OZ']\n",
    "\n",
    "#top_10 = top_10.astype({'Year_1':'int64'})\n",
    "#top_10.head(3)\n"
   ]
  },
  {
   "cell_type": "code",
   "execution_count": 10,
   "id": "83865525",
   "metadata": {},
   "outputs": [],
   "source": [
    "# First chart pipeline\n",
    "#idf = top_10.interactive()\n",
    "#total_pipeline = (\n",
    "#    idf[\n",
    "#        (idf.Year_1 <= year_slider) &\n",
    "#        (idf.Online_THD_SKU.isin(skus))\n",
    "#    ]\n",
    "#    .groupby(['Online_THD_SKU', 'Month_Year'])['Online_PIP_Visits_'].mean()\n",
    "#    .to_frame()\n",
    "#    .reset_index()\n",
    "#    .sort_values(by='Month_Year')  \n",
    "#    .reset_index(drop=True)\n",
    "#)\n",
    "\n",
    "#total_pipeline"
   ]
  },
  {
   "cell_type": "code",
   "execution_count": 11,
   "id": "70d99ea5",
   "metadata": {},
   "outputs": [],
   "source": [
    "#total_plot = total_pipeline.hvplot(x = 'Month_Year', by = 'Online_THD_SKU', y = 'Online_PIP_Visits_', title = 'Online PIP Visits Per Year by SKU')\n",
    "#total_plot"
   ]
  },
  {
   "cell_type": "code",
   "execution_count": null,
   "id": "e061ef8e",
   "metadata": {},
   "outputs": [],
   "source": []
  },
  {
   "cell_type": "code",
   "execution_count": null,
   "id": "395b26f0",
   "metadata": {},
   "outputs": [],
   "source": []
  },
  {
   "cell_type": "code",
   "execution_count": null,
   "id": "19d87a80",
   "metadata": {},
   "outputs": [],
   "source": []
  },
  {
   "cell_type": "code",
   "execution_count": null,
   "id": "6719e82c",
   "metadata": {},
   "outputs": [],
   "source": []
  },
  {
   "cell_type": "code",
   "execution_count": null,
   "id": "870cd437",
   "metadata": {},
   "outputs": [],
   "source": []
  },
  {
   "cell_type": "code",
   "execution_count": null,
   "id": "431b5b46",
   "metadata": {},
   "outputs": [],
   "source": []
  },
  {
   "cell_type": "code",
   "execution_count": null,
   "id": "1033386f",
   "metadata": {},
   "outputs": [],
   "source": []
  },
  {
   "cell_type": "code",
   "execution_count": null,
   "id": "18e9fdb4",
   "metadata": {},
   "outputs": [],
   "source": []
  },
  {
   "cell_type": "code",
   "execution_count": null,
   "id": "5e0d6e15",
   "metadata": {},
   "outputs": [],
   "source": []
  }
 ],
 "metadata": {
  "kernelspec": {
   "display_name": "Python 3 (ipykernel)",
   "language": "python",
   "name": "python3"
  },
  "language_info": {
   "codemirror_mode": {
    "name": "ipython",
    "version": 3
   },
   "file_extension": ".py",
   "mimetype": "text/x-python",
   "name": "python",
   "nbconvert_exporter": "python",
   "pygments_lexer": "ipython3",
   "version": "3.9.12"
  }
 },
 "nbformat": 4,
 "nbformat_minor": 5
}
